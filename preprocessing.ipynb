{
 "cells": [
  {
   "cell_type": "markdown",
   "id": "e5981c0d-265c-4ad5-80c0-016c7d3e77c5",
   "metadata": {},
   "source": [
    "## Preprocessing"
   ]
  },
  {
   "cell_type": "code",
   "execution_count": 1,
   "id": "98ae45ba-ba97-4f21-b0b5-db931b11f6f2",
   "metadata": {},
   "outputs": [],
   "source": [
    "# Import the necessary libraries\n",
    "import pandas as pd\n",
    "import numpy as np\n",
    "import seaborn as sns\n",
    "import matplotlib.pyplot as plt"
   ]
  },
  {
   "cell_type": "code",
   "execution_count": 2,
   "id": "2e1bf628-6428-4a8b-9bea-4b34774cc5f2",
   "metadata": {},
   "outputs": [],
   "source": [
    "# Import the dataset\n",
    "df = pd.read_csv('car_df.csv') "
   ]
  },
  {
   "cell_type": "code",
   "execution_count": 3,
   "id": "dcb9f7f6-67f4-4cc2-88fb-c01755b068af",
   "metadata": {},
   "outputs": [
    {
     "data": {
      "text/html": [
       "<div>\n",
       "<style scoped>\n",
       "    .dataframe tbody tr th:only-of-type {\n",
       "        vertical-align: middle;\n",
       "    }\n",
       "\n",
       "    .dataframe tbody tr th {\n",
       "        vertical-align: top;\n",
       "    }\n",
       "\n",
       "    .dataframe thead th {\n",
       "        text-align: right;\n",
       "    }\n",
       "</style>\n",
       "<table border=\"1\" class=\"dataframe\">\n",
       "  <thead>\n",
       "    <tr style=\"text-align: right;\">\n",
       "      <th></th>\n",
       "      <th>Name</th>\n",
       "      <th>Transimission_Type</th>\n",
       "      <th>Engine_Size</th>\n",
       "      <th>Usage_Origin</th>\n",
       "      <th>Year</th>\n",
       "      <th>Price</th>\n",
       "    </tr>\n",
       "  </thead>\n",
       "  <tbody>\n",
       "    <tr>\n",
       "      <th>0</th>\n",
       "      <td>Toyota Harrier</td>\n",
       "      <td>Automatic</td>\n",
       "      <td>2000 CC</td>\n",
       "      <td>Foreign Used</td>\n",
       "      <td>2017</td>\n",
       "      <td>KES 3,450,000</td>\n",
       "    </tr>\n",
       "    <tr>\n",
       "      <th>1</th>\n",
       "      <td>Audi SQ5</td>\n",
       "      <td>Automatic</td>\n",
       "      <td>3000 CC</td>\n",
       "      <td>Foreign Used</td>\n",
       "      <td>2018</td>\n",
       "      <td>KES 6,463,700</td>\n",
       "    </tr>\n",
       "    <tr>\n",
       "      <th>2</th>\n",
       "      <td>Range Rover Vogue SV</td>\n",
       "      <td>Automatic</td>\n",
       "      <td>4400 CC</td>\n",
       "      <td>Foreign Used</td>\n",
       "      <td>2023</td>\n",
       "      <td>KES 51,400,000</td>\n",
       "    </tr>\n",
       "    <tr>\n",
       "      <th>3</th>\n",
       "      <td>Isuzu MUX</td>\n",
       "      <td>Automatic</td>\n",
       "      <td>3000 CC</td>\n",
       "      <td>Foreign Used</td>\n",
       "      <td>2022</td>\n",
       "      <td>KES 8,600,000</td>\n",
       "    </tr>\n",
       "    <tr>\n",
       "      <th>4</th>\n",
       "      <td>Mazda CX5</td>\n",
       "      <td>Automatic</td>\n",
       "      <td>2500 CC</td>\n",
       "      <td>Foreign Used</td>\n",
       "      <td>2019</td>\n",
       "      <td>KES 4,788,209</td>\n",
       "    </tr>\n",
       "  </tbody>\n",
       "</table>\n",
       "</div>"
      ],
      "text/plain": [
       "                   Name Transimission_Type Engine_Size  Usage_Origin  Year  \\\n",
       "0        Toyota Harrier          Automatic     2000 CC  Foreign Used  2017   \n",
       "1              Audi SQ5          Automatic     3000 CC  Foreign Used  2018   \n",
       "2  Range Rover Vogue SV          Automatic     4400 CC  Foreign Used  2023   \n",
       "3             Isuzu MUX          Automatic     3000 CC  Foreign Used  2022   \n",
       "4             Mazda CX5          Automatic     2500 CC  Foreign Used  2019   \n",
       "\n",
       "            Price  \n",
       "0   KES 3,450,000  \n",
       "1   KES 6,463,700  \n",
       "2  KES 51,400,000  \n",
       "3   KES 8,600,000  \n",
       "4   KES 4,788,209  "
      ]
     },
     "execution_count": 3,
     "metadata": {},
     "output_type": "execute_result"
    }
   ],
   "source": [
    "# Print the first 5 rows\n",
    "df.head()"
   ]
  },
  {
   "cell_type": "code",
   "execution_count": 4,
   "id": "478b3acd-008d-400c-87bd-233f649cb504",
   "metadata": {},
   "outputs": [
    {
     "name": "stdout",
     "output_type": "stream",
     "text": [
      "<class 'pandas.core.frame.DataFrame'>\n",
      "RangeIndex: 2445 entries, 0 to 2444\n",
      "Data columns (total 6 columns):\n",
      " #   Column              Non-Null Count  Dtype \n",
      "---  ------              --------------  ----- \n",
      " 0   Name                2445 non-null   object\n",
      " 1   Transimission_Type  2445 non-null   object\n",
      " 2   Engine_Size         2445 non-null   object\n",
      " 3   Usage_Origin        2445 non-null   object\n",
      " 4   Year                2445 non-null   int64 \n",
      " 5   Price               2445 non-null   object\n",
      "dtypes: int64(1), object(5)\n",
      "memory usage: 114.7+ KB\n"
     ]
    }
   ],
   "source": [
    "# Check the data types\n",
    "df.info()"
   ]
  },
  {
   "cell_type": "markdown",
   "id": "b20ef667-ed21-43d4-907e-c4bb40e179c7",
   "metadata": {},
   "source": [
    "* Price column needs to be converted into float type."
   ]
  },
  {
   "cell_type": "markdown",
   "id": "98f0eff9-ae7b-4325-9596-bfc3811b2838",
   "metadata": {},
   "source": [
    "### Duplicates"
   ]
  },
  {
   "cell_type": "code",
   "execution_count": 5,
   "id": "89433b74-993b-48d6-b48a-21ca8c02f2fb",
   "metadata": {},
   "outputs": [
    {
     "data": {
      "text/plain": [
       "64"
      ]
     },
     "execution_count": 5,
     "metadata": {},
     "output_type": "execute_result"
    }
   ],
   "source": [
    "# Check for duplicates\n",
    "df.duplicated().sum()"
   ]
  },
  {
   "cell_type": "markdown",
   "id": "d443354e-ecb6-4435-85a1-b47bd83027f0",
   "metadata": {},
   "source": [
    "* The dataset had 64 duplicates which were all droped."
   ]
  },
  {
   "cell_type": "markdown",
   "id": "9d427be7-76ad-4144-b41e-924a5a47d265",
   "metadata": {},
   "source": [
    "### Nulls"
   ]
  },
  {
   "cell_type": "code",
   "execution_count": 6,
   "id": "d443fd39-5e5b-46bc-b8e3-beace95c4c3b",
   "metadata": {},
   "outputs": [
    {
     "data": {
      "text/plain": [
       "Name                  0\n",
       "Transimission_Type    0\n",
       "Engine_Size           0\n",
       "Usage_Origin          0\n",
       "Year                  0\n",
       "Price                 0\n",
       "dtype: int64"
      ]
     },
     "execution_count": 6,
     "metadata": {},
     "output_type": "execute_result"
    }
   ],
   "source": [
    "df.isnull().sum()"
   ]
  },
  {
   "cell_type": "markdown",
   "id": "d5434b17-17c1-4804-81cf-8bb16f230837",
   "metadata": {},
   "source": [
    "* The dataset does not have any null values."
   ]
  },
  {
   "cell_type": "markdown",
   "id": "43b4de5b-50d1-4625-ab0d-056c0378ee88",
   "metadata": {},
   "source": [
    "### Data inconsistency"
   ]
  },
  {
   "cell_type": "markdown",
   "id": "f93bd06f-26ee-4273-a789-307dc71f2e9a",
   "metadata": {},
   "source": [
    "#### i. Transmission Type"
   ]
  },
  {
   "cell_type": "code",
   "execution_count": 7,
   "id": "73d58c22-2481-4599-acec-f7110dfc0b63",
   "metadata": {},
   "outputs": [
    {
     "data": {
      "text/plain": [
       "array(['Automatic', 'Manual', 'Foreign Used'], dtype=object)"
      ]
     },
     "execution_count": 7,
     "metadata": {},
     "output_type": "execute_result"
    }
   ],
   "source": [
    "df['Transimission_Type'].unique()"
   ]
  },
  {
   "cell_type": "markdown",
   "id": "8baefa98-d52a-4f2f-87d5-4b73fb26e0d2",
   "metadata": {},
   "source": [
    "* The rows with 'Foreign Used' values under Transimission_Type column needs to be dropped."
   ]
  },
  {
   "cell_type": "markdown",
   "id": "33b06ffc-b881-4fec-be95-ad08a49537c2",
   "metadata": {},
   "source": [
    "#### v. Engine size"
   ]
  },
  {
   "cell_type": "code",
   "execution_count": 8,
   "id": "b34828dc-7e72-4839-9426-2d99983515de",
   "metadata": {},
   "outputs": [
    {
     "data": {
      "text/plain": [
       "array(['2000 CC', '3000 CC', '4400 CC', '2500 CC', '2800 CC', '1200 CC',\n",
       "       '1600 CC', '3500 CC', '3600 CC', '2200 CC', '1300 CC', '2100 CC',\n",
       "       '1500 CC', '5000 CC', '2400 CC', '1400 CC', '4500 CC', '3200 CC',\n",
       "       '4000 CC', '2700 CC', '1800 CC', '5700 CC', '4600 CC', '2900 CC',\n",
       "       '660 CC', '3300 CC', '6400 CC', '3800 CC', '3900 CC', '5500 CC',\n",
       "       '1000 CC', '2993 CC', '2140 CC', '4200 CC', '6000 CC', '2300 CC',\n",
       "       '4700 CC', ' ', '2143 CC', '2018 CC', '2017 CC', '2600 CC',\n",
       "       '6200 CC', 'Foreign Used', 'Kenyan Used', '2148 CC', '750 CC',\n",
       "       '900 CC', '2350 CC', '5200 CC', '5600 CC', '1242 CC', '650 CC',\n",
       "       '4300 CC', '2956 CC', '1499 CC'], dtype=object)"
      ]
     },
     "execution_count": 8,
     "metadata": {},
     "output_type": "execute_result"
    }
   ],
   "source": [
    "df['Engine_Size'].unique()"
   ]
  },
  {
   "cell_type": "markdown",
   "id": "6a9e16ae-ee17-47e2-9f3d-6ebfd8430f9c",
   "metadata": {},
   "source": [
    "* There some inconsistencies under the 'Engine_Size' column like having some 'Usage_Origin' values.\n",
    "* The column should also be converted to a float type."
   ]
  },
  {
   "cell_type": "markdown",
   "id": "01fc33de-2446-48e0-b77e-dce320f82e87",
   "metadata": {},
   "source": [
    "#### ii. Usage Origin"
   ]
  },
  {
   "cell_type": "code",
   "execution_count": 9,
   "id": "c890f0b3-a43c-4fa0-9508-9c17bae354bf",
   "metadata": {},
   "outputs": [
    {
     "data": {
      "text/plain": [
       "array(['Foreign Used', 'Kenyan Used'], dtype=object)"
      ]
     },
     "execution_count": 9,
     "metadata": {},
     "output_type": "execute_result"
    }
   ],
   "source": [
    "df['Usage_Origin'].unique()"
   ]
  },
  {
   "cell_type": "markdown",
   "id": "28b9ced7-13a3-4bb8-adf1-4da4da829c17",
   "metadata": {},
   "source": [
    "* The column Usage Origin does not have any issue."
   ]
  },
  {
   "cell_type": "markdown",
   "id": "b5673c4e-d2d5-443b-90ea-9f465e1a86c8",
   "metadata": {},
   "source": [
    "#### iii. Year"
   ]
  },
  {
   "cell_type": "code",
   "execution_count": 10,
   "id": "86036580-a61a-486e-8c0c-9c8a44102687",
   "metadata": {},
   "outputs": [
    {
     "data": {
      "text/plain": [
       "array([2017, 2018, 2023, 2022, 2019, 2021, 2008, 2015, 2014, 2013, 2016,\n",
       "       2001, 2012, 2007, 2009, 2000, 2011, 2010, 2002, 2020, 2006, 2005,\n",
       "       2003, 1999, 2024, 2004, 1997, 1996, 1998, 1990, 1979, 1981, 1989,\n",
       "       1994, 1995], dtype=int64)"
      ]
     },
     "execution_count": 10,
     "metadata": {},
     "output_type": "execute_result"
    }
   ],
   "source": [
    "df['Year'].unique()"
   ]
  },
  {
   "cell_type": "markdown",
   "id": "a0f6bd66-44a2-4165-afd1-fd42277ff5c1",
   "metadata": {},
   "source": [
    "* The colum Year does not have any problem."
   ]
  },
  {
   "cell_type": "markdown",
   "id": "2927d7e4-f760-4ad8-8242-3489a624bbb0",
   "metadata": {},
   "source": [
    "#### iv. Price"
   ]
  },
  {
   "cell_type": "code",
   "execution_count": 11,
   "id": "595dbe42-76a3-4c2d-b96a-f0e1f58346ea",
   "metadata": {},
   "outputs": [
    {
     "data": {
      "text/html": [
       "<div>\n",
       "<style scoped>\n",
       "    .dataframe tbody tr th:only-of-type {\n",
       "        vertical-align: middle;\n",
       "    }\n",
       "\n",
       "    .dataframe tbody tr th {\n",
       "        vertical-align: top;\n",
       "    }\n",
       "\n",
       "    .dataframe thead th {\n",
       "        text-align: right;\n",
       "    }\n",
       "</style>\n",
       "<table border=\"1\" class=\"dataframe\">\n",
       "  <thead>\n",
       "    <tr style=\"text-align: right;\">\n",
       "      <th></th>\n",
       "      <th>Name</th>\n",
       "      <th>Transimission_Type</th>\n",
       "      <th>Engine_Size</th>\n",
       "      <th>Usage_Origin</th>\n",
       "      <th>Year</th>\n",
       "      <th>Price</th>\n",
       "    </tr>\n",
       "  </thead>\n",
       "  <tbody>\n",
       "    <tr>\n",
       "      <th>2412</th>\n",
       "      <td>Mercedes-Benz E350 D</td>\n",
       "      <td>Automatic</td>\n",
       "      <td>3000 CC</td>\n",
       "      <td>Foreign Used</td>\n",
       "      <td>2017</td>\n",
       "      <td>£26,052</td>\n",
       "    </tr>\n",
       "  </tbody>\n",
       "</table>\n",
       "</div>"
      ],
      "text/plain": [
       "                      Name Transimission_Type Engine_Size  Usage_Origin  Year  \\\n",
       "2412  Mercedes-Benz E350 D          Automatic     3000 CC  Foreign Used  2017   \n",
       "\n",
       "        Price  \n",
       "2412  £26,052  "
      ]
     },
     "execution_count": 11,
     "metadata": {},
     "output_type": "execute_result"
    }
   ],
   "source": [
    "# Check if there are other currencies\n",
    "other_currencies = df[~df['Price'].str.contains('KES')]\n",
    "other_currencies"
   ]
  },
  {
   "cell_type": "markdown",
   "id": "a80c99e9-db59-443d-acff-df8b085617cd",
   "metadata": {},
   "source": [
    "* There is one row where the price is in euros, therefore it should be converted to KES after converting the column price into float."
   ]
  },
  {
   "cell_type": "markdown",
   "id": "0916418b-26c9-4ac6-a6b7-faacb151f20d",
   "metadata": {},
   "source": [
    "## Initial Cleaning"
   ]
  },
  {
   "cell_type": "markdown",
   "id": "35bb139c-1ace-4dfb-9b58-932669229ada",
   "metadata": {},
   "source": [
    "#### i. Transmission Types"
   ]
  },
  {
   "cell_type": "code",
   "execution_count": 12,
   "id": "9dee9cff-fc11-4caf-a426-08a644a32d0c",
   "metadata": {},
   "outputs": [
    {
     "data": {
      "text/html": [
       "<div>\n",
       "<style scoped>\n",
       "    .dataframe tbody tr th:only-of-type {\n",
       "        vertical-align: middle;\n",
       "    }\n",
       "\n",
       "    .dataframe tbody tr th {\n",
       "        vertical-align: top;\n",
       "    }\n",
       "\n",
       "    .dataframe thead th {\n",
       "        text-align: right;\n",
       "    }\n",
       "</style>\n",
       "<table border=\"1\" class=\"dataframe\">\n",
       "  <thead>\n",
       "    <tr style=\"text-align: right;\">\n",
       "      <th></th>\n",
       "      <th>Name</th>\n",
       "      <th>Transimission_Type</th>\n",
       "      <th>Engine_Size</th>\n",
       "      <th>Usage_Origin</th>\n",
       "      <th>Year</th>\n",
       "      <th>Price</th>\n",
       "    </tr>\n",
       "  </thead>\n",
       "  <tbody>\n",
       "    <tr>\n",
       "      <th>553</th>\n",
       "      <td>Toyota Landcruiser</td>\n",
       "      <td>Foreign Used</td>\n",
       "      <td></td>\n",
       "      <td>Foreign Used</td>\n",
       "      <td>2017</td>\n",
       "      <td>KES 10,450,000</td>\n",
       "    </tr>\n",
       "  </tbody>\n",
       "</table>\n",
       "</div>"
      ],
      "text/plain": [
       "                   Name Transimission_Type Engine_Size  Usage_Origin  Year  \\\n",
       "553  Toyota Landcruiser       Foreign Used              Foreign Used  2017   \n",
       "\n",
       "              Price  \n",
       "553  KES 10,450,000  "
      ]
     },
     "execution_count": 12,
     "metadata": {},
     "output_type": "execute_result"
    }
   ],
   "source": [
    "# Identify rows with 'Foreign Used' values\n",
    "df[df['Transimission_Type'] == 'Foreign Used']"
   ]
  },
  {
   "cell_type": "markdown",
   "id": "aa9e184d-0f3d-46d0-b8dc-293d537e8dfe",
   "metadata": {},
   "source": [
    "* Only one row with the inconsistency, hence drop the row."
   ]
  },
  {
   "cell_type": "code",
   "execution_count": 13,
   "id": "308b6e63-658b-42a7-9a4e-dc33cf31f3bd",
   "metadata": {},
   "outputs": [],
   "source": [
    "df['Transimission_Type'] = df['Transimission_Type'].replace('Foreign Used', '')"
   ]
  },
  {
   "cell_type": "code",
   "execution_count": 14,
   "id": "df778ddc-761a-4627-a131-ac9e61b12217",
   "metadata": {},
   "outputs": [
    {
     "data": {
      "text/html": [
       "<div>\n",
       "<style scoped>\n",
       "    .dataframe tbody tr th:only-of-type {\n",
       "        vertical-align: middle;\n",
       "    }\n",
       "\n",
       "    .dataframe tbody tr th {\n",
       "        vertical-align: top;\n",
       "    }\n",
       "\n",
       "    .dataframe thead th {\n",
       "        text-align: right;\n",
       "    }\n",
       "</style>\n",
       "<table border=\"1\" class=\"dataframe\">\n",
       "  <thead>\n",
       "    <tr style=\"text-align: right;\">\n",
       "      <th></th>\n",
       "      <th>Name</th>\n",
       "      <th>Transimission_Type</th>\n",
       "      <th>Engine_Size</th>\n",
       "      <th>Usage_Origin</th>\n",
       "      <th>Year</th>\n",
       "      <th>Price</th>\n",
       "    </tr>\n",
       "  </thead>\n",
       "  <tbody>\n",
       "  </tbody>\n",
       "</table>\n",
       "</div>"
      ],
      "text/plain": [
       "Empty DataFrame\n",
       "Columns: [Name, Transimission_Type, Engine_Size, Usage_Origin, Year, Price]\n",
       "Index: []"
      ]
     },
     "execution_count": 14,
     "metadata": {},
     "output_type": "execute_result"
    }
   ],
   "source": [
    "# Confirm if the has been droped\n",
    "df[df['Transimission_Type'] == 'Foreign Used']"
   ]
  },
  {
   "cell_type": "markdown",
   "id": "8d3d645f-6788-4343-970b-439d4cf93dbd",
   "metadata": {},
   "source": [
    "* The row has been dropped successfully"
   ]
  },
  {
   "cell_type": "markdown",
   "id": "4eed2773-f6d4-4d41-8f9c-71241c11d7fc",
   "metadata": {},
   "source": [
    "#### ii. Engine_Size"
   ]
  },
  {
   "cell_type": "code",
   "execution_count": 15,
   "id": "a379cfed-5f76-4113-a499-19a04a4a973d",
   "metadata": {},
   "outputs": [],
   "source": [
    "# Drop all characters that are not numeric and convert the column to numeric type\n",
    "df['Engine_Size'] = pd.to_numeric(df['Engine_Size'].str.replace(r'[^0-9.]', '', regex = True), errors = 'coerce')"
   ]
  },
  {
   "cell_type": "code",
   "execution_count": 16,
   "id": "3a9feec5-c415-4090-9fd7-92abd02f2a81",
   "metadata": {},
   "outputs": [
    {
     "data": {
      "text/plain": [
       "array([2000., 3000., 4400., 2500., 2800., 1200., 1600., 3500., 3600.,\n",
       "       2200., 1300., 2100., 1500., 5000., 2400., 1400., 4500., 3200.,\n",
       "       4000., 2700., 1800., 5700., 4600., 2900.,  660., 3300., 6400.,\n",
       "       3800., 3900., 5500., 1000., 2993., 2140., 4200., 6000., 2300.,\n",
       "       4700.,   nan, 2143., 2018., 2017., 2600., 6200., 2148.,  750.,\n",
       "        900., 2350., 5200., 5600., 1242.,  650., 4300., 2956., 1499.])"
      ]
     },
     "execution_count": 16,
     "metadata": {},
     "output_type": "execute_result"
    }
   ],
   "source": [
    "# Confirm if droped\n",
    "df['Engine_Size'].unique()"
   ]
  },
  {
   "cell_type": "markdown",
   "id": "fdf382de-bbed-4d06-a0e1-b6c9626289c9",
   "metadata": {},
   "source": [
    "* The inconsistent values from usage origin column have been converted to nan now the 'Engine_Size' column is numeric."
   ]
  },
  {
   "cell_type": "markdown",
   "id": "a2b8e343-ad9f-4510-9c6c-2a58e5bfe66d",
   "metadata": {},
   "source": [
    "#### iii. Price"
   ]
  },
  {
   "cell_type": "code",
   "execution_count": 17,
   "id": "36a819ed-b779-4bbd-b0d7-f64d309f721d",
   "metadata": {},
   "outputs": [],
   "source": [
    "# Convert the Price column to float type\n",
    "df['Price'] = df['Price'].str.replace(r'[^0-9.]', '', regex = True).astype(float)"
   ]
  },
  {
   "cell_type": "markdown",
   "id": "bacb2934-22bc-45c3-90bc-7117f95fed76",
   "metadata": {},
   "source": [
    "* The column Price has been converted to float therefore now convert the price in euros into KES"
   ]
  },
  {
   "cell_type": "code",
   "execution_count": 18,
   "id": "023ce29d-1902-4aa1-9b37-b35dfd5ddd1a",
   "metadata": {},
   "outputs": [],
   "source": [
    "# Convert the euro price into KES and confirm if converted\n",
    "df.at[2412, 'Price'] *= 167.2"
   ]
  },
  {
   "cell_type": "code",
   "execution_count": 19,
   "id": "6c1a4291-a5a8-4f51-b5f0-d6a633b7d0a8",
   "metadata": {},
   "outputs": [
    {
     "data": {
      "text/html": [
       "<div>\n",
       "<style scoped>\n",
       "    .dataframe tbody tr th:only-of-type {\n",
       "        vertical-align: middle;\n",
       "    }\n",
       "\n",
       "    .dataframe tbody tr th {\n",
       "        vertical-align: top;\n",
       "    }\n",
       "\n",
       "    .dataframe thead th {\n",
       "        text-align: right;\n",
       "    }\n",
       "</style>\n",
       "<table border=\"1\" class=\"dataframe\">\n",
       "  <thead>\n",
       "    <tr style=\"text-align: right;\">\n",
       "      <th></th>\n",
       "      <th>Name</th>\n",
       "      <th>Transimission_Type</th>\n",
       "      <th>Engine_Size</th>\n",
       "      <th>Usage_Origin</th>\n",
       "      <th>Year</th>\n",
       "      <th>Price</th>\n",
       "    </tr>\n",
       "  </thead>\n",
       "  <tbody>\n",
       "    <tr>\n",
       "      <th>2412</th>\n",
       "      <td>Mercedes-Benz E350 D</td>\n",
       "      <td>Automatic</td>\n",
       "      <td>3000.0</td>\n",
       "      <td>Foreign Used</td>\n",
       "      <td>2017</td>\n",
       "      <td>4355894.4</td>\n",
       "    </tr>\n",
       "  </tbody>\n",
       "</table>\n",
       "</div>"
      ],
      "text/plain": [
       "                      Name Transimission_Type  Engine_Size  Usage_Origin  \\\n",
       "2412  Mercedes-Benz E350 D          Automatic       3000.0  Foreign Used   \n",
       "\n",
       "      Year      Price  \n",
       "2412  2017  4355894.4  "
      ]
     },
     "execution_count": 19,
     "metadata": {},
     "output_type": "execute_result"
    }
   ],
   "source": [
    "# confirm if converted using iloc\n",
    "df.iloc[[2412]]"
   ]
  },
  {
   "cell_type": "markdown",
   "id": "5d8a25c3-2af6-4d86-96b9-6b43dde0eac6",
   "metadata": {},
   "source": [
    "* Now the price has been converted to KES"
   ]
  },
  {
   "cell_type": "markdown",
   "id": "30342843-8e92-4ba8-b81e-66776af64e61",
   "metadata": {},
   "source": [
    "### Summary Statistics"
   ]
  },
  {
   "cell_type": "code",
   "execution_count": 20,
   "id": "a86dc25b-efd6-48c8-b9a1-6304b361cde6",
   "metadata": {},
   "outputs": [
    {
     "data": {
      "text/html": [
       "<div>\n",
       "<style scoped>\n",
       "    .dataframe tbody tr th:only-of-type {\n",
       "        vertical-align: middle;\n",
       "    }\n",
       "\n",
       "    .dataframe tbody tr th {\n",
       "        vertical-align: top;\n",
       "    }\n",
       "\n",
       "    .dataframe thead th {\n",
       "        text-align: right;\n",
       "    }\n",
       "</style>\n",
       "<table border=\"1\" class=\"dataframe\">\n",
       "  <thead>\n",
       "    <tr style=\"text-align: right;\">\n",
       "      <th></th>\n",
       "      <th>Engine_Size</th>\n",
       "      <th>Year</th>\n",
       "      <th>Price</th>\n",
       "    </tr>\n",
       "  </thead>\n",
       "  <tbody>\n",
       "    <tr>\n",
       "      <th>count</th>\n",
       "      <td>2440.000000</td>\n",
       "      <td>2445.000000</td>\n",
       "      <td>2.445000e+03</td>\n",
       "    </tr>\n",
       "    <tr>\n",
       "      <th>mean</th>\n",
       "      <td>2246.922951</td>\n",
       "      <td>2015.247444</td>\n",
       "      <td>4.440872e+06</td>\n",
       "    </tr>\n",
       "    <tr>\n",
       "      <th>std</th>\n",
       "      <td>896.971309</td>\n",
       "      <td>3.970704</td>\n",
       "      <td>5.165748e+06</td>\n",
       "    </tr>\n",
       "    <tr>\n",
       "      <th>min</th>\n",
       "      <td>650.000000</td>\n",
       "      <td>1979.000000</td>\n",
       "      <td>2.199990e+05</td>\n",
       "    </tr>\n",
       "    <tr>\n",
       "      <th>25%</th>\n",
       "      <td>1600.000000</td>\n",
       "      <td>2014.000000</td>\n",
       "      <td>1.649999e+06</td>\n",
       "    </tr>\n",
       "    <tr>\n",
       "      <th>50%</th>\n",
       "      <td>2000.000000</td>\n",
       "      <td>2016.000000</td>\n",
       "      <td>2.899999e+06</td>\n",
       "    </tr>\n",
       "    <tr>\n",
       "      <th>75%</th>\n",
       "      <td>2700.000000</td>\n",
       "      <td>2017.000000</td>\n",
       "      <td>4.849999e+06</td>\n",
       "    </tr>\n",
       "    <tr>\n",
       "      <th>max</th>\n",
       "      <td>6400.000000</td>\n",
       "      <td>2024.000000</td>\n",
       "      <td>6.950000e+07</td>\n",
       "    </tr>\n",
       "  </tbody>\n",
       "</table>\n",
       "</div>"
      ],
      "text/plain": [
       "       Engine_Size         Year         Price\n",
       "count  2440.000000  2445.000000  2.445000e+03\n",
       "mean   2246.922951  2015.247444  4.440872e+06\n",
       "std     896.971309     3.970704  5.165748e+06\n",
       "min     650.000000  1979.000000  2.199990e+05\n",
       "25%    1600.000000  2014.000000  1.649999e+06\n",
       "50%    2000.000000  2016.000000  2.899999e+06\n",
       "75%    2700.000000  2017.000000  4.849999e+06\n",
       "max    6400.000000  2024.000000  6.950000e+07"
      ]
     },
     "execution_count": 20,
     "metadata": {},
     "output_type": "execute_result"
    }
   ],
   "source": [
    "df.describe()"
   ]
  },
  {
   "cell_type": "markdown",
   "id": "66c255e3-07b7-4dda-969e-26fdbb3b1dff",
   "metadata": {},
   "source": [
    "### Drop Duplicates"
   ]
  },
  {
   "cell_type": "code",
   "execution_count": 21,
   "id": "212a91a8-728c-481d-a1b7-2413abeb5ea7",
   "metadata": {},
   "outputs": [],
   "source": [
    "# Drop the duplicates\n",
    "df.drop_duplicates(inplace = True)"
   ]
  },
  {
   "cell_type": "code",
   "execution_count": 22,
   "id": "99257769-72e7-426e-81bc-e626381bf357",
   "metadata": {},
   "outputs": [
    {
     "data": {
      "text/plain": [
       "0"
      ]
     },
     "execution_count": 22,
     "metadata": {},
     "output_type": "execute_result"
    }
   ],
   "source": [
    "# Confirm if droped\n",
    "df.duplicated().sum()"
   ]
  },
  {
   "cell_type": "markdown",
   "id": "6392144e-3c9a-47b3-9c9b-f9b04954d343",
   "metadata": {},
   "source": [
    "* Now the Duplicates have been all droped."
   ]
  },
  {
   "cell_type": "markdown",
   "id": "49c287e3-301f-4e59-ad58-a151f410d3dd",
   "metadata": {},
   "source": [
    "#### Save the cleaned file"
   ]
  },
  {
   "cell_type": "code",
   "execution_count": 23,
   "id": "fe9a2c8a-a4d3-42cb-a3dc-09b35e27e54a",
   "metadata": {},
   "outputs": [],
   "source": [
    "df.to_csv('cleaned_df.csv', index = False)"
   ]
  },
  {
   "cell_type": "markdown",
   "id": "7fbe09da-f212-46bf-9151-610500edff43",
   "metadata": {},
   "source": [
    "#### Import the saved DataFrame"
   ]
  },
  {
   "cell_type": "code",
   "execution_count": 24,
   "id": "eea74aab-585a-4ba1-984f-703bc72dfe1c",
   "metadata": {},
   "outputs": [],
   "source": [
    "# Import the df\n",
    "car_df = pd.read_csv('cleaned_df.csv')"
   ]
  },
  {
   "cell_type": "code",
   "execution_count": 25,
   "id": "b48b557d-94de-4fe4-962c-ccabbe7e13be",
   "metadata": {},
   "outputs": [
    {
     "data": {
      "text/html": [
       "<div>\n",
       "<style scoped>\n",
       "    .dataframe tbody tr th:only-of-type {\n",
       "        vertical-align: middle;\n",
       "    }\n",
       "\n",
       "    .dataframe tbody tr th {\n",
       "        vertical-align: top;\n",
       "    }\n",
       "\n",
       "    .dataframe thead th {\n",
       "        text-align: right;\n",
       "    }\n",
       "</style>\n",
       "<table border=\"1\" class=\"dataframe\">\n",
       "  <thead>\n",
       "    <tr style=\"text-align: right;\">\n",
       "      <th></th>\n",
       "      <th>Name</th>\n",
       "      <th>Transimission_Type</th>\n",
       "      <th>Engine_Size</th>\n",
       "      <th>Usage_Origin</th>\n",
       "      <th>Year</th>\n",
       "      <th>Price</th>\n",
       "    </tr>\n",
       "  </thead>\n",
       "  <tbody>\n",
       "    <tr>\n",
       "      <th>0</th>\n",
       "      <td>Toyota Harrier</td>\n",
       "      <td>Automatic</td>\n",
       "      <td>2000.0</td>\n",
       "      <td>Foreign Used</td>\n",
       "      <td>2017</td>\n",
       "      <td>3450000.0</td>\n",
       "    </tr>\n",
       "    <tr>\n",
       "      <th>1</th>\n",
       "      <td>Audi SQ5</td>\n",
       "      <td>Automatic</td>\n",
       "      <td>3000.0</td>\n",
       "      <td>Foreign Used</td>\n",
       "      <td>2018</td>\n",
       "      <td>6463700.0</td>\n",
       "    </tr>\n",
       "    <tr>\n",
       "      <th>2</th>\n",
       "      <td>Range Rover Vogue SV</td>\n",
       "      <td>Automatic</td>\n",
       "      <td>4400.0</td>\n",
       "      <td>Foreign Used</td>\n",
       "      <td>2023</td>\n",
       "      <td>51400000.0</td>\n",
       "    </tr>\n",
       "    <tr>\n",
       "      <th>3</th>\n",
       "      <td>Isuzu MUX</td>\n",
       "      <td>Automatic</td>\n",
       "      <td>3000.0</td>\n",
       "      <td>Foreign Used</td>\n",
       "      <td>2022</td>\n",
       "      <td>8600000.0</td>\n",
       "    </tr>\n",
       "    <tr>\n",
       "      <th>4</th>\n",
       "      <td>Mazda CX5</td>\n",
       "      <td>Automatic</td>\n",
       "      <td>2500.0</td>\n",
       "      <td>Foreign Used</td>\n",
       "      <td>2019</td>\n",
       "      <td>4788209.0</td>\n",
       "    </tr>\n",
       "  </tbody>\n",
       "</table>\n",
       "</div>"
      ],
      "text/plain": [
       "                   Name Transimission_Type  Engine_Size  Usage_Origin  Year  \\\n",
       "0        Toyota Harrier          Automatic       2000.0  Foreign Used  2017   \n",
       "1              Audi SQ5          Automatic       3000.0  Foreign Used  2018   \n",
       "2  Range Rover Vogue SV          Automatic       4400.0  Foreign Used  2023   \n",
       "3             Isuzu MUX          Automatic       3000.0  Foreign Used  2022   \n",
       "4             Mazda CX5          Automatic       2500.0  Foreign Used  2019   \n",
       "\n",
       "        Price  \n",
       "0   3450000.0  \n",
       "1   6463700.0  \n",
       "2  51400000.0  \n",
       "3   8600000.0  \n",
       "4   4788209.0  "
      ]
     },
     "execution_count": 25,
     "metadata": {},
     "output_type": "execute_result"
    }
   ],
   "source": [
    "# Display the first 5 rows\n",
    "car_df.head()"
   ]
  },
  {
   "cell_type": "markdown",
   "id": "d6e6a58a-2fb3-4617-9d67-96d17ca3eba9",
   "metadata": {},
   "source": [
    "## Feature Engineering"
   ]
  },
  {
   "cell_type": "markdown",
   "id": "93e63336-2c87-4561-86d0-fea92e09803a",
   "metadata": {},
   "source": [
    "* The first step is to split the Name column into 'Make' and 'model'.\n",
    "* Create a new colum 'Car_Age' based on the colum Year."
   ]
  },
  {
   "cell_type": "markdown",
   "id": "d425d513-1e87-4ab7-9043-18fdf806205c",
   "metadata": {},
   "source": [
    "#### i. Make & Model"
   ]
  },
  {
   "cell_type": "code",
   "execution_count": 26,
   "id": "adf36c45-b70a-40a8-ba80-58adf49d09d7",
   "metadata": {},
   "outputs": [],
   "source": [
    "# Split column 'Name' into 'Make' and 'Model'\n",
    "\n",
    "car_df['Name'] = car_df['Name'].str.title()\n",
    "unique_names = ['Alfa Romeo', 'Aston Martin', 'Land Rover', 'Mercedes Benz', 'Rolls Royce', 'Range Rover']\n",
    "\n",
    "def split_name(Name):\n",
    "    for unique_name in unique_names:\n",
    "        if Name.startswith(unique_name):\n",
    "            Make = unique_name\n",
    "            Model = Name[len(Make):].strip()\n",
    "            return Make, Model\n",
    "\n",
    "    single_name_make = Name.split(' ', 1)\n",
    "    if len(single_name_make) > 1:\n",
    "        Make, Model = single_name_make[0], single_name_make[1]\n",
    "    else:\n",
    "        Make = Name\n",
    "        Model = ''\n",
    "    return Make, Model\n",
    "\n",
    "car_df[['Make', 'Model']] = car_df['Name'].apply(lambda x: pd.Series(split_name(x)))"
   ]
  },
  {
   "cell_type": "code",
   "execution_count": 27,
   "id": "908a73e6-38a6-45de-b425-84ceba91eef8",
   "metadata": {},
   "outputs": [
    {
     "data": {
      "text/html": [
       "<div>\n",
       "<style scoped>\n",
       "    .dataframe tbody tr th:only-of-type {\n",
       "        vertical-align: middle;\n",
       "    }\n",
       "\n",
       "    .dataframe tbody tr th {\n",
       "        vertical-align: top;\n",
       "    }\n",
       "\n",
       "    .dataframe thead th {\n",
       "        text-align: right;\n",
       "    }\n",
       "</style>\n",
       "<table border=\"1\" class=\"dataframe\">\n",
       "  <thead>\n",
       "    <tr style=\"text-align: right;\">\n",
       "      <th></th>\n",
       "      <th>Name</th>\n",
       "      <th>Transimission_Type</th>\n",
       "      <th>Engine_Size</th>\n",
       "      <th>Usage_Origin</th>\n",
       "      <th>Year</th>\n",
       "      <th>Price</th>\n",
       "      <th>Make</th>\n",
       "      <th>Model</th>\n",
       "    </tr>\n",
       "  </thead>\n",
       "  <tbody>\n",
       "    <tr>\n",
       "      <th>0</th>\n",
       "      <td>Toyota Harrier</td>\n",
       "      <td>Automatic</td>\n",
       "      <td>2000.0</td>\n",
       "      <td>Foreign Used</td>\n",
       "      <td>2017</td>\n",
       "      <td>3450000.0</td>\n",
       "      <td>Toyota</td>\n",
       "      <td>Harrier</td>\n",
       "    </tr>\n",
       "    <tr>\n",
       "      <th>1</th>\n",
       "      <td>Audi Sq5</td>\n",
       "      <td>Automatic</td>\n",
       "      <td>3000.0</td>\n",
       "      <td>Foreign Used</td>\n",
       "      <td>2018</td>\n",
       "      <td>6463700.0</td>\n",
       "      <td>Audi</td>\n",
       "      <td>Sq5</td>\n",
       "    </tr>\n",
       "    <tr>\n",
       "      <th>2</th>\n",
       "      <td>Range Rover Vogue Sv</td>\n",
       "      <td>Automatic</td>\n",
       "      <td>4400.0</td>\n",
       "      <td>Foreign Used</td>\n",
       "      <td>2023</td>\n",
       "      <td>51400000.0</td>\n",
       "      <td>Range Rover</td>\n",
       "      <td>Vogue Sv</td>\n",
       "    </tr>\n",
       "    <tr>\n",
       "      <th>3</th>\n",
       "      <td>Isuzu Mux</td>\n",
       "      <td>Automatic</td>\n",
       "      <td>3000.0</td>\n",
       "      <td>Foreign Used</td>\n",
       "      <td>2022</td>\n",
       "      <td>8600000.0</td>\n",
       "      <td>Isuzu</td>\n",
       "      <td>Mux</td>\n",
       "    </tr>\n",
       "    <tr>\n",
       "      <th>4</th>\n",
       "      <td>Mazda Cx5</td>\n",
       "      <td>Automatic</td>\n",
       "      <td>2500.0</td>\n",
       "      <td>Foreign Used</td>\n",
       "      <td>2019</td>\n",
       "      <td>4788209.0</td>\n",
       "      <td>Mazda</td>\n",
       "      <td>Cx5</td>\n",
       "    </tr>\n",
       "  </tbody>\n",
       "</table>\n",
       "</div>"
      ],
      "text/plain": [
       "                   Name Transimission_Type  Engine_Size  Usage_Origin  Year  \\\n",
       "0        Toyota Harrier          Automatic       2000.0  Foreign Used  2017   \n",
       "1              Audi Sq5          Automatic       3000.0  Foreign Used  2018   \n",
       "2  Range Rover Vogue Sv          Automatic       4400.0  Foreign Used  2023   \n",
       "3             Isuzu Mux          Automatic       3000.0  Foreign Used  2022   \n",
       "4             Mazda Cx5          Automatic       2500.0  Foreign Used  2019   \n",
       "\n",
       "        Price         Make     Model  \n",
       "0   3450000.0       Toyota   Harrier  \n",
       "1   6463700.0         Audi       Sq5  \n",
       "2  51400000.0  Range Rover  Vogue Sv  \n",
       "3   8600000.0        Isuzu       Mux  \n",
       "4   4788209.0        Mazda       Cx5  "
      ]
     },
     "execution_count": 27,
     "metadata": {},
     "output_type": "execute_result"
    }
   ],
   "source": [
    "# Display the first 5 rows\n",
    "car_df.head()"
   ]
  },
  {
   "cell_type": "code",
   "execution_count": 28,
   "id": "542c7c06-1b39-47f4-8524-44f95a27ff94",
   "metadata": {},
   "outputs": [
    {
     "data": {
      "text/html": [
       "<div>\n",
       "<style scoped>\n",
       "    .dataframe tbody tr th:only-of-type {\n",
       "        vertical-align: middle;\n",
       "    }\n",
       "\n",
       "    .dataframe tbody tr th {\n",
       "        vertical-align: top;\n",
       "    }\n",
       "\n",
       "    .dataframe thead th {\n",
       "        text-align: right;\n",
       "    }\n",
       "</style>\n",
       "<table border=\"1\" class=\"dataframe\">\n",
       "  <thead>\n",
       "    <tr style=\"text-align: right;\">\n",
       "      <th></th>\n",
       "      <th>Name</th>\n",
       "      <th>Transimission_Type</th>\n",
       "      <th>Engine_Size</th>\n",
       "      <th>Usage_Origin</th>\n",
       "      <th>Year</th>\n",
       "      <th>Price</th>\n",
       "      <th>Make</th>\n",
       "      <th>Model</th>\n",
       "    </tr>\n",
       "  </thead>\n",
       "  <tbody>\n",
       "    <tr>\n",
       "      <th>2376</th>\n",
       "      <td>Toyota Auris</td>\n",
       "      <td>Automatic</td>\n",
       "      <td>1500.0</td>\n",
       "      <td>Foreign Used</td>\n",
       "      <td>2016</td>\n",
       "      <td>1800000.0</td>\n",
       "      <td>Toyota</td>\n",
       "      <td>Auris</td>\n",
       "    </tr>\n",
       "    <tr>\n",
       "      <th>2377</th>\n",
       "      <td>Peugeot 207</td>\n",
       "      <td>Automatic</td>\n",
       "      <td>1600.0</td>\n",
       "      <td>Kenyan Used</td>\n",
       "      <td>2012</td>\n",
       "      <td>950000.0</td>\n",
       "      <td>Peugeot</td>\n",
       "      <td>207</td>\n",
       "    </tr>\n",
       "    <tr>\n",
       "      <th>2378</th>\n",
       "      <td>Mazda Atenza</td>\n",
       "      <td>Automatic</td>\n",
       "      <td>2200.0</td>\n",
       "      <td>Foreign Used</td>\n",
       "      <td>2016</td>\n",
       "      <td>2150000.0</td>\n",
       "      <td>Mazda</td>\n",
       "      <td>Atenza</td>\n",
       "    </tr>\n",
       "    <tr>\n",
       "      <th>2379</th>\n",
       "      <td>Isuzu Elf Light Truck</td>\n",
       "      <td>Automatic</td>\n",
       "      <td>NaN</td>\n",
       "      <td>Foreign Used</td>\n",
       "      <td>2014</td>\n",
       "      <td>1850000.0</td>\n",
       "      <td>Isuzu</td>\n",
       "      <td>Elf Light Truck</td>\n",
       "    </tr>\n",
       "    <tr>\n",
       "      <th>2380</th>\n",
       "      <td>Jaguar Xj</td>\n",
       "      <td>Automatic</td>\n",
       "      <td>2000.0</td>\n",
       "      <td>Foreign Used</td>\n",
       "      <td>2014</td>\n",
       "      <td>4100000.0</td>\n",
       "      <td>Jaguar</td>\n",
       "      <td>Xj</td>\n",
       "    </tr>\n",
       "  </tbody>\n",
       "</table>\n",
       "</div>"
      ],
      "text/plain": [
       "                       Name Transimission_Type  Engine_Size  Usage_Origin  \\\n",
       "2376           Toyota Auris          Automatic       1500.0  Foreign Used   \n",
       "2377            Peugeot 207          Automatic       1600.0   Kenyan Used   \n",
       "2378           Mazda Atenza          Automatic       2200.0  Foreign Used   \n",
       "2379  Isuzu Elf Light Truck          Automatic          NaN  Foreign Used   \n",
       "2380              Jaguar Xj          Automatic       2000.0  Foreign Used   \n",
       "\n",
       "      Year      Price     Make            Model  \n",
       "2376  2016  1800000.0   Toyota            Auris  \n",
       "2377  2012   950000.0  Peugeot              207  \n",
       "2378  2016  2150000.0    Mazda           Atenza  \n",
       "2379  2014  1850000.0    Isuzu  Elf Light Truck  \n",
       "2380  2014  4100000.0   Jaguar               Xj  "
      ]
     },
     "execution_count": 28,
     "metadata": {},
     "output_type": "execute_result"
    }
   ],
   "source": [
    "# Display the last 5 rows\n",
    "car_df.tail()"
   ]
  },
  {
   "cell_type": "markdown",
   "id": "0afb7a11-15f0-4ee3-b0f2-b0d73a81a847",
   "metadata": {},
   "source": [
    "#### ii. Car_Age"
   ]
  },
  {
   "cell_type": "code",
   "execution_count": 29,
   "id": "c85d6b82-9d58-4e18-9745-3517e0c54a1e",
   "metadata": {},
   "outputs": [],
   "source": [
    "# Import date\n",
    "from datetime import date"
   ]
  },
  {
   "cell_type": "code",
   "execution_count": 30,
   "id": "6e8eeb9c-71da-4967-906c-9206e4660625",
   "metadata": {},
   "outputs": [],
   "source": [
    "# Get the current year\n",
    "date = date.today()\n",
    "year = date.year"
   ]
  },
  {
   "cell_type": "code",
   "execution_count": 31,
   "id": "a2d2c61f-8b9a-4360-a50d-ebb8aaddfa5e",
   "metadata": {},
   "outputs": [],
   "source": [
    "# Get the car age\n",
    "car_df['Car_Age'] = car_df['Year'].apply(lambda x: year - x)"
   ]
  },
  {
   "cell_type": "markdown",
   "id": "25981b54-b393-4657-90bb-76e382d04704",
   "metadata": {},
   "source": [
    "#### iii. Price_Range"
   ]
  },
  {
   "cell_type": "code",
   "execution_count": 32,
   "id": "80bbd646-8531-488a-9ffb-2b0303b02460",
   "metadata": {},
   "outputs": [],
   "source": [
    "def price_range(Price):\n",
    "    if Price <= 1000000:\n",
    "        return '0-1M'\n",
    "    elif Price <= 2000000:\n",
    "        return '1M-2M'\n",
    "    elif Price <= 3000000:\n",
    "        return '2M-3M'\n",
    "    elif Price <= 5000000:\n",
    "        return '3M-5M'\n",
    "    elif Price <= 10000000:\n",
    "        return '5M-10M'\n",
    "    elif Price <= 20000000:\n",
    "        return '10M-20M'\n",
    "    elif Price <= 30000000:\n",
    "        return '20M-30M'\n",
    "    else:\n",
    "        return 'Above 30M'\n",
    "\n",
    "car_df['Price_Range'] = car_df['Price'].apply(lambda x: price_range(x))"
   ]
  },
  {
   "cell_type": "code",
   "execution_count": 33,
   "id": "832b304c-cc32-4d77-b223-d7cdc162f4b5",
   "metadata": {},
   "outputs": [
    {
     "data": {
      "text/html": [
       "<div>\n",
       "<style scoped>\n",
       "    .dataframe tbody tr th:only-of-type {\n",
       "        vertical-align: middle;\n",
       "    }\n",
       "\n",
       "    .dataframe tbody tr th {\n",
       "        vertical-align: top;\n",
       "    }\n",
       "\n",
       "    .dataframe thead th {\n",
       "        text-align: right;\n",
       "    }\n",
       "</style>\n",
       "<table border=\"1\" class=\"dataframe\">\n",
       "  <thead>\n",
       "    <tr style=\"text-align: right;\">\n",
       "      <th></th>\n",
       "      <th>Name</th>\n",
       "      <th>Transimission_Type</th>\n",
       "      <th>Engine_Size</th>\n",
       "      <th>Usage_Origin</th>\n",
       "      <th>Year</th>\n",
       "      <th>Price</th>\n",
       "      <th>Make</th>\n",
       "      <th>Model</th>\n",
       "      <th>Car_Age</th>\n",
       "      <th>Price_Range</th>\n",
       "    </tr>\n",
       "  </thead>\n",
       "  <tbody>\n",
       "    <tr>\n",
       "      <th>0</th>\n",
       "      <td>Toyota Harrier</td>\n",
       "      <td>Automatic</td>\n",
       "      <td>2000.0</td>\n",
       "      <td>Foreign Used</td>\n",
       "      <td>2017</td>\n",
       "      <td>3450000.0</td>\n",
       "      <td>Toyota</td>\n",
       "      <td>Harrier</td>\n",
       "      <td>7</td>\n",
       "      <td>3M-5M</td>\n",
       "    </tr>\n",
       "    <tr>\n",
       "      <th>1</th>\n",
       "      <td>Audi Sq5</td>\n",
       "      <td>Automatic</td>\n",
       "      <td>3000.0</td>\n",
       "      <td>Foreign Used</td>\n",
       "      <td>2018</td>\n",
       "      <td>6463700.0</td>\n",
       "      <td>Audi</td>\n",
       "      <td>Sq5</td>\n",
       "      <td>6</td>\n",
       "      <td>5M-10M</td>\n",
       "    </tr>\n",
       "    <tr>\n",
       "      <th>2</th>\n",
       "      <td>Range Rover Vogue Sv</td>\n",
       "      <td>Automatic</td>\n",
       "      <td>4400.0</td>\n",
       "      <td>Foreign Used</td>\n",
       "      <td>2023</td>\n",
       "      <td>51400000.0</td>\n",
       "      <td>Range Rover</td>\n",
       "      <td>Vogue Sv</td>\n",
       "      <td>1</td>\n",
       "      <td>Above 30M</td>\n",
       "    </tr>\n",
       "    <tr>\n",
       "      <th>3</th>\n",
       "      <td>Isuzu Mux</td>\n",
       "      <td>Automatic</td>\n",
       "      <td>3000.0</td>\n",
       "      <td>Foreign Used</td>\n",
       "      <td>2022</td>\n",
       "      <td>8600000.0</td>\n",
       "      <td>Isuzu</td>\n",
       "      <td>Mux</td>\n",
       "      <td>2</td>\n",
       "      <td>5M-10M</td>\n",
       "    </tr>\n",
       "    <tr>\n",
       "      <th>4</th>\n",
       "      <td>Mazda Cx5</td>\n",
       "      <td>Automatic</td>\n",
       "      <td>2500.0</td>\n",
       "      <td>Foreign Used</td>\n",
       "      <td>2019</td>\n",
       "      <td>4788209.0</td>\n",
       "      <td>Mazda</td>\n",
       "      <td>Cx5</td>\n",
       "      <td>5</td>\n",
       "      <td>3M-5M</td>\n",
       "    </tr>\n",
       "  </tbody>\n",
       "</table>\n",
       "</div>"
      ],
      "text/plain": [
       "                   Name Transimission_Type  Engine_Size  Usage_Origin  Year  \\\n",
       "0        Toyota Harrier          Automatic       2000.0  Foreign Used  2017   \n",
       "1              Audi Sq5          Automatic       3000.0  Foreign Used  2018   \n",
       "2  Range Rover Vogue Sv          Automatic       4400.0  Foreign Used  2023   \n",
       "3             Isuzu Mux          Automatic       3000.0  Foreign Used  2022   \n",
       "4             Mazda Cx5          Automatic       2500.0  Foreign Used  2019   \n",
       "\n",
       "        Price         Make     Model  Car_Age Price_Range  \n",
       "0   3450000.0       Toyota   Harrier        7       3M-5M  \n",
       "1   6463700.0         Audi       Sq5        6      5M-10M  \n",
       "2  51400000.0  Range Rover  Vogue Sv        1   Above 30M  \n",
       "3   8600000.0        Isuzu       Mux        2      5M-10M  \n",
       "4   4788209.0        Mazda       Cx5        5       3M-5M  "
      ]
     },
     "execution_count": 33,
     "metadata": {},
     "output_type": "execute_result"
    }
   ],
   "source": [
    "# Display the first 5 rows\n",
    "car_df.head()"
   ]
  },
  {
   "cell_type": "markdown",
   "id": "36041383-4ee2-4cea-b091-6dc3b35a9be4",
   "metadata": {},
   "source": [
    "### Final Data Cleaning"
   ]
  },
  {
   "cell_type": "code",
   "execution_count": 34,
   "id": "2d774966-7113-4dcc-9461-ffb807727203",
   "metadata": {},
   "outputs": [
    {
     "name": "stdout",
     "output_type": "stream",
     "text": [
      "Alfa Romeo\n",
      "Audi\n",
      "Bentley\n",
      "Bmw\n",
      "Chevrolet\n",
      "Citreon\n",
      "Citroen\n",
      "Citroën\n",
      "Daihatsu\n",
      "Dodge\n",
      "Faw\n",
      "Ferrari\n",
      "Ford\n",
      "Hino\n",
      "Honda\n",
      "Hyundai\n",
      "Isuzu\n",
      "Jaguar\n",
      "Jeep\n",
      "Kia\n",
      "Lamborghini\n",
      "Land Rover\n",
      "Landcruiser\n",
      "Landrover\n",
      "Lexus\n",
      "Mark\n",
      "Mazda\n",
      "Mercedes\n",
      "Mercedes Benz\n",
      "Mercedes-Benz\n",
      "Mini\n",
      "Mistubishi\n",
      "Mitsubishi\n",
      "Nissan\n",
      "Passo\n",
      "Peugeot\n",
      "Porsche\n",
      "Range Rover\n",
      "Renault\n",
      "Smart\n",
      "Subaru\n",
      "Suzuki\n",
      "Tata\n",
      "Toyota\n",
      "Volkswagen\n",
      "Volvo\n",
      "\n",
      "length: 46\n"
     ]
    }
   ],
   "source": [
    "# Check unique values under 'Make' column\n",
    "make_list = sorted(car_df['Make'].unique()) # sort in alphabetic order to identify inconsistency easily.\n",
    "for make in make_list:\n",
    "    print(make)\n",
    "    \n",
    "print(f'\\nlength: {len(make_list)}')"
   ]
  },
  {
   "cell_type": "markdown",
   "id": "e3469029-44a9-462e-b432-79e3086b03b4",
   "metadata": {},
   "source": [
    "#### Observations:\n",
    "\n",
    "* Mercedes and Mercedes-Benz needs to be replaced with Mercedes Benz.\n",
    "* Landrover needs to be replaced with Land Rover.\n",
    "* I need to prepend Toyota where the name Landcruiser, Passo, and Mark appears under Make.\n",
    "* Mistubushi needs to be replaced with Mitsubishi.\n",
    "* Citreon and Citroën needs to be replaced with Citroen."
   ]
  },
  {
   "cell_type": "code",
   "execution_count": 35,
   "id": "cfa3105b-fd00-4500-88b4-f45db8dface6",
   "metadata": {},
   "outputs": [],
   "source": [
    "# Replace Landrover with Land Rover\n",
    "car_df['Name'] = car_df['Name'].str.replace('Landrover', 'Land Rover')"
   ]
  },
  {
   "cell_type": "code",
   "execution_count": 36,
   "id": "671394db-9edf-4c54-8b19-26398ac93c78",
   "metadata": {},
   "outputs": [],
   "source": [
    "# Replace Citreon and Citroën with Citroen\n",
    "car_df['Name'] = car_df['Name'].str.replace(r'Citroën|Citreon', 'Citroen', regex = True)"
   ]
  },
  {
   "cell_type": "code",
   "execution_count": 37,
   "id": "51b483c2-9837-4a1e-ad9d-7148082bb1d9",
   "metadata": {},
   "outputs": [],
   "source": [
    "# Replace Mistubushi with Mitsubishi\n",
    "car_df['Name'] = car_df['Name'].str.replace('Mistubishi', 'Mitsubishi')"
   ]
  },
  {
   "cell_type": "code",
   "execution_count": 38,
   "id": "bc730422-dca0-44ad-9525-7d3f12932868",
   "metadata": {},
   "outputs": [],
   "source": [
    "# Replace Mercedes and Mercedes-Benz with Mercedes Benz.\n",
    "car_df['Name'] = car_df['Name'].str.replace(r'(?<!Mercedes\\s)Mercedes(-Benz)?', 'Mercedes Benz', regex = True) #Using negative look behind (?<!...)"
   ]
  },
  {
   "cell_type": "code",
   "execution_count": 39,
   "id": "f3f47c18-ce8a-4736-af44-5f7672e535a9",
   "metadata": {},
   "outputs": [],
   "source": [
    "# Prepend Toyota to Mark, Passoo, and Landcruiser\n",
    "car_df['Name'] = car_df['Name'].apply(lambda x: 'Toyota ' + x if ('Landcruiser' in x or 'Mark' in x or 'Passo' in x) and 'Toyota' not in x else x)"
   ]
  },
  {
   "cell_type": "code",
   "execution_count": 40,
   "id": "2be757c1-9808-452e-b4e0-2c26094265f1",
   "metadata": {},
   "outputs": [
    {
     "name": "stdout",
     "output_type": "stream",
     "text": [
      "Alfa Romeo\n",
      "Audi\n",
      "Bentley\n",
      "Bmw\n",
      "Chevrolet\n",
      "Citroen\n",
      "Daihatsu\n",
      "Dodge\n",
      "Faw\n",
      "Ferrari\n",
      "Ford\n",
      "Hino\n",
      "Honda\n",
      "Hyundai\n",
      "Isuzu\n",
      "Jaguar\n",
      "Jeep\n",
      "Kia\n",
      "Lamborghini\n",
      "Land Rover\n",
      "Lexus\n",
      "Mazda\n",
      "Mercedes Benz\n",
      "Mini\n",
      "Mitsubishi\n",
      "Nissan\n",
      "Peugeot\n",
      "Porsche\n",
      "Range Rover\n",
      "Renault\n",
      "Smart\n",
      "Subaru\n",
      "Suzuki\n",
      "Tata\n",
      "Toyota\n",
      "Volkswagen\n",
      "Volvo\n",
      "\n",
      "length: 37\n"
     ]
    }
   ],
   "source": [
    "# Call the splitting function\n",
    "car_df[['Make', 'Model']] = car_df['Name'].apply(lambda x: pd.Series(split_name(x)))\n",
    "\n",
    "# Re-check unique values under 'Make' column\n",
    "make_list = sorted(car_df['Make'].unique())\n",
    "for make in make_list:\n",
    "    print(make)\n",
    "    \n",
    "print(f'\\nlength: {len(make_list)}')"
   ]
  },
  {
   "cell_type": "markdown",
   "id": "8c247ca2-799b-4bae-a59a-8d33f94ffdb1",
   "metadata": {},
   "source": [
    "* Now the unique values have reduced from 46 to 40 after cleaning"
   ]
  },
  {
   "cell_type": "markdown",
   "id": "b0acec33-0976-4653-a9fc-c0a2ebf7b9e4",
   "metadata": {},
   "source": [
    "### Final Statistics"
   ]
  },
  {
   "cell_type": "code",
   "execution_count": 41,
   "id": "033afbb7-808e-409f-adc7-dfcccb765335",
   "metadata": {},
   "outputs": [
    {
     "data": {
      "text/html": [
       "<div>\n",
       "<style scoped>\n",
       "    .dataframe tbody tr th:only-of-type {\n",
       "        vertical-align: middle;\n",
       "    }\n",
       "\n",
       "    .dataframe tbody tr th {\n",
       "        vertical-align: top;\n",
       "    }\n",
       "\n",
       "    .dataframe thead th {\n",
       "        text-align: right;\n",
       "    }\n",
       "</style>\n",
       "<table border=\"1\" class=\"dataframe\">\n",
       "  <thead>\n",
       "    <tr style=\"text-align: right;\">\n",
       "      <th></th>\n",
       "      <th>count</th>\n",
       "      <th>mean</th>\n",
       "      <th>std</th>\n",
       "      <th>min</th>\n",
       "      <th>25%</th>\n",
       "      <th>50%</th>\n",
       "      <th>75%</th>\n",
       "      <th>max</th>\n",
       "    </tr>\n",
       "  </thead>\n",
       "  <tbody>\n",
       "    <tr>\n",
       "      <th>Engine_Size</th>\n",
       "      <td>2376.00</td>\n",
       "      <td>2252.48</td>\n",
       "      <td>899.18</td>\n",
       "      <td>650.00</td>\n",
       "      <td>1600.00</td>\n",
       "      <td>2000.00</td>\n",
       "      <td>2700.00</td>\n",
       "      <td>6400.00</td>\n",
       "    </tr>\n",
       "    <tr>\n",
       "      <th>Year</th>\n",
       "      <td>2381.00</td>\n",
       "      <td>2015.22</td>\n",
       "      <td>4.01</td>\n",
       "      <td>1979.00</td>\n",
       "      <td>2014.00</td>\n",
       "      <td>2016.00</td>\n",
       "      <td>2017.00</td>\n",
       "      <td>2024.00</td>\n",
       "    </tr>\n",
       "    <tr>\n",
       "      <th>Price</th>\n",
       "      <td>2381.00</td>\n",
       "      <td>4457351.10</td>\n",
       "      <td>5200374.62</td>\n",
       "      <td>219999.00</td>\n",
       "      <td>1639999.00</td>\n",
       "      <td>2886999.00</td>\n",
       "      <td>4899999.00</td>\n",
       "      <td>69500000.00</td>\n",
       "    </tr>\n",
       "    <tr>\n",
       "      <th>Car_Age</th>\n",
       "      <td>2381.00</td>\n",
       "      <td>8.78</td>\n",
       "      <td>4.01</td>\n",
       "      <td>0.00</td>\n",
       "      <td>7.00</td>\n",
       "      <td>8.00</td>\n",
       "      <td>10.00</td>\n",
       "      <td>45.00</td>\n",
       "    </tr>\n",
       "  </tbody>\n",
       "</table>\n",
       "</div>"
      ],
      "text/plain": [
       "              count       mean        std       min        25%        50%  \\\n",
       "Engine_Size 2376.00    2252.48     899.18    650.00    1600.00    2000.00   \n",
       "Year        2381.00    2015.22       4.01   1979.00    2014.00    2016.00   \n",
       "Price       2381.00 4457351.10 5200374.62 219999.00 1639999.00 2886999.00   \n",
       "Car_Age     2381.00       8.78       4.01      0.00       7.00       8.00   \n",
       "\n",
       "                   75%         max  \n",
       "Engine_Size    2700.00     6400.00  \n",
       "Year           2017.00     2024.00  \n",
       "Price       4899999.00 69500000.00  \n",
       "Car_Age          10.00       45.00  "
      ]
     },
     "execution_count": 41,
     "metadata": {},
     "output_type": "execute_result"
    }
   ],
   "source": [
    "# Display numbers in standard notation\n",
    "pd.options.display.float_format = '{:.2f}'.format\n",
    "\n",
    "car_df.describe().T"
   ]
  },
  {
   "cell_type": "markdown",
   "id": "ad184ca8-c8bc-44aa-9486-77ddda0900ea",
   "metadata": {},
   "source": [
    "#### Save The final cleaned DataFrame"
   ]
  },
  {
   "cell_type": "code",
   "execution_count": 42,
   "id": "cd913c7f-9224-45bd-a5e8-5f2d74abe9d8",
   "metadata": {},
   "outputs": [],
   "source": [
    "car_df.to_csv('final_clean_car_data.csv', index = False)"
   ]
  }
 ],
 "metadata": {
  "kernelspec": {
   "display_name": "Python 3 (ipykernel)",
   "language": "python",
   "name": "python3"
  },
  "language_info": {
   "codemirror_mode": {
    "name": "ipython",
    "version": 3
   },
   "file_extension": ".py",
   "mimetype": "text/x-python",
   "name": "python",
   "nbconvert_exporter": "python",
   "pygments_lexer": "ipython3",
   "version": "3.11.5"
  }
 },
 "nbformat": 4,
 "nbformat_minor": 5
}
